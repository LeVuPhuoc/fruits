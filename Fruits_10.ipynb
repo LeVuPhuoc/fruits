{
  "nbformat": 4,
  "nbformat_minor": 0,
  "metadata": {
    "colab": {
      "name": "Fruits_10.ipynb",
      "provenance": [],
      "collapsed_sections": [],
      "authorship_tag": "ABX9TyNS1/c7knWs8JGzdANjUESR",
      "include_colab_link": true
    },
    "kernelspec": {
      "name": "python3",
      "display_name": "Python 3"
    },
    "language_info": {
      "name": "python"
    },
    "accelerator": "GPU"
  },
  "cells": [
    {
      "cell_type": "markdown",
      "metadata": {
        "id": "view-in-github",
        "colab_type": "text"
      },
      "source": [
        "<a href=\"https://colab.research.google.com/github/LeVuPhuoc/fruits/blob/main/Fruits_10.ipynb\" target=\"_parent\"><img src=\"https://colab.research.google.com/assets/colab-badge.svg\" alt=\"Open In Colab\"/></a>"
      ]
    },
    {
      "cell_type": "markdown",
      "source": [
        "#1 Import thư viện\n"
      ],
      "metadata": {
        "id": "L3cBEgDgsimF"
      }
    },
    {
      "cell_type": "code",
      "execution_count": 60,
      "metadata": {
        "id": "85V8wvjTe_Oe"
      },
      "outputs": [],
      "source": [
        "import matplotlib.pyplot as plt\n",
        "import numpy as np\n",
        "import cv2\n",
        "from sklearn.model_selection import train_test_split\n",
        "\n",
        "from keras.utils import np_utils\n",
        "from keras.models import Sequential\n",
        "from keras.layers import Dense, Dropout, Flatten, Conv2D, MaxPooling2D, ZeroPadding2D, BatchNormalization\n",
        "from keras.models import load_model\n",
        "from keras.preprocessing.image import load_img, img_to_array, ImageDataGenerator\n",
        "from keras.models import Sequential\n",
        "from keras.layers import Dense, Activation, Dropout, BatchNormalization,  Dropout, Flatten, Conv2D, MaxPooling2D\n",
        "from sklearn.linear_model import Perceptron\n",
        "from tensorflow.keras.optimizers import Adam\n",
        "from sklearn.utils import shuffle\n",
        "from keras.preprocessing.image import load_img,img_to_array\n",
        "from keras.models import load_model"
      ]
    },
    {
      "cell_type": "markdown",
      "source": [
        "#2. Gán nhãn dữ liệu"
      ],
      "metadata": {
        "id": "Yc5fKN2Ktrl7"
      }
    },
    {
      "cell_type": "code",
      "source": [
        "\n",
        "labels = ['bananas','blueberries','grapes','guava','oranges','pears','pineapples','raspberries','strawberries','watermelons']"
      ],
      "metadata": {
        "id": "njV6PO6hmKdH"
      },
      "execution_count": 61,
      "outputs": []
    },
    {
      "cell_type": "code",
      "source": [
        "N = 30\n",
        "namefruit = ['bananas','blueberries','grapes','guava','oranges','pears','pineapples','raspberries','strawberries','watermelons']\n",
        "Img_data = np.zeros((N*10,32,32,3), dtype=np.float32)\n",
        "#Chuyển ảnh thành mảng\n",
        "for name in range(0,10):\n",
        "  for i in range(0,N): \n",
        "    img = cv2.imread(namefruit[name]+str(i)+'.jpg',cv2.IMREAD_COLOR)\n",
        "    Img_data[name*30+i][::][::][::] = img"
      ],
      "metadata": {
        "id": "JzpmJMHQfA-P"
      },
      "execution_count": 62,
      "outputs": []
    },
    {
      "cell_type": "code",
      "source": [
        "Name = np.zeros((N*10), dtype=np.float32)\n",
        "for i in range(0,10):\n",
        "  for j in range(0,N):\n",
        "    Name[i*N+j] = i\n"
      ],
      "metadata": {
        "id": "ErjTtycRfeKX"
      },
      "execution_count": 63,
      "outputs": []
    },
    {
      "cell_type": "markdown",
      "source": [
        "# 3. Lấy data và train"
      ],
      "metadata": {
        "id": "496Lma--txRc"
      }
    },
    {
      "cell_type": "code",
      "source": [
        "x_train,x_test,y_train,y_test = train_test_split(Img_data,Name,test_size=0.2)\n",
        "x_train = x_train.astype('float32')\n",
        "x_test = x_test.astype('float32')\n",
        "x_train/=255.0\n",
        "x_test/=255.0\n",
        "y_train = np_utils.to_categorical(y_train,10)\n",
        "y_test = np_utils.to_categorical(y_test,10)"
      ],
      "metadata": {
        "id": "aw9q7IO7fhxO"
      },
      "execution_count": 64,
      "outputs": []
    },
    {
      "cell_type": "code",
      "source": [
        "model = Sequential()\n",
        "model.add(Conv2D(32,(3,3), activation = 'relu', kernel_initializer = 'he_uniform', padding = 'same', input_shape = (32,32,3)))\n",
        "model.add(Conv2D(32,(3,3), activation = 'relu', kernel_initializer = 'he_uniform', padding = 'same'))\n",
        "model.add(MaxPooling2D((2,2)))\n",
        "#model.add(Dropout(0.5))\n",
        "\n",
        "model.add(Conv2D(64,(3,3), activation = 'relu', kernel_initializer = 'he_uniform', padding = 'same'))\n",
        "model.add(MaxPooling2D((2,2)))\n",
        "#model.add(Dropout(0.5))\n",
        "\n",
        "model.add(Conv2D(128,(3,3), activation = 'relu', kernel_initializer = 'he_uniform', padding = 'same'))\n",
        "model.add(MaxPooling2D((2,2)))\n",
        "#model.add(Dropout(0.5))\n",
        "\n",
        "model.add(Flatten())\n",
        "model.add(Dense(512, activation = 'relu', kernel_initializer = 'he_uniform'))\n",
        "model.add(Dropout(0.25))\n",
        "model.add(Dense(128, activation = 'relu'))\n",
        "#model.add(Dropout(0.5))\n",
        "model.add(Dense(64, activation = 'relu'))\n",
        "#model.add(Dropout(0.5))\n",
        "model.add(Dense(32, activation = 'relu'))\n",
        "#model.add(Dropout(0.5))\n",
        "model.add(Dense(10, activation = 'softmax'))\n",
        "model.summary()"
      ],
      "metadata": {
        "colab": {
          "base_uri": "https://localhost:8080/"
        },
        "id": "mcwIZDN9fjde",
        "outputId": "4c2368bb-6e61-40dc-b319-9065870a6ee9"
      },
      "execution_count": 67,
      "outputs": [
        {
          "output_type": "stream",
          "name": "stdout",
          "text": [
            "Model: \"sequential_9\"\n",
            "_________________________________________________________________\n",
            " Layer (type)                Output Shape              Param #   \n",
            "=================================================================\n",
            " conv2d_32 (Conv2D)          (None, 32, 32, 32)        896       \n",
            "                                                                 \n",
            " conv2d_33 (Conv2D)          (None, 32, 32, 32)        9248      \n",
            "                                                                 \n",
            " max_pooling2d_23 (MaxPoolin  (None, 16, 16, 32)       0         \n",
            " g2D)                                                            \n",
            "                                                                 \n",
            " conv2d_34 (Conv2D)          (None, 16, 16, 64)        18496     \n",
            "                                                                 \n",
            " max_pooling2d_24 (MaxPoolin  (None, 8, 8, 64)         0         \n",
            " g2D)                                                            \n",
            "                                                                 \n",
            " conv2d_35 (Conv2D)          (None, 8, 8, 128)         73856     \n",
            "                                                                 \n",
            " max_pooling2d_25 (MaxPoolin  (None, 4, 4, 128)        0         \n",
            " g2D)                                                            \n",
            "                                                                 \n",
            " flatten_9 (Flatten)         (None, 2048)              0         \n",
            "                                                                 \n",
            " dense_28 (Dense)            (None, 512)               1049088   \n",
            "                                                                 \n",
            " dropout_9 (Dropout)         (None, 512)               0         \n",
            "                                                                 \n",
            " dense_29 (Dense)            (None, 128)               65664     \n",
            "                                                                 \n",
            " dense_30 (Dense)            (None, 64)                8256      \n",
            "                                                                 \n",
            " dense_31 (Dense)            (None, 32)                2080      \n",
            "                                                                 \n",
            " dense_32 (Dense)            (None, 10)                330       \n",
            "                                                                 \n",
            "=================================================================\n",
            "Total params: 1,227,914\n",
            "Trainable params: 1,227,914\n",
            "Non-trainable params: 0\n",
            "_________________________________________________________________\n"
          ]
        }
      ]
    },
    {
      "cell_type": "code",
      "source": [
        "model.compile(optimizer='adam',loss='categorical_crossentropy',metrics=['accuracy'])\n",
        "history = model.fit(x_train,y_train,batch_size = 4, epochs = 50,verbose = 1, validation_data =(x_test,y_test))"
      ],
      "metadata": {
        "colab": {
          "base_uri": "https://localhost:8080/"
        },
        "id": "FQrP9mrDfn2-",
        "outputId": "8fe18240-00d4-4851-c0df-6ea40bab40d3"
      },
      "execution_count": 68,
      "outputs": [
        {
          "output_type": "stream",
          "name": "stdout",
          "text": [
            "Epoch 1/50\n",
            "60/60 [==============================] - 2s 12ms/step - loss: 2.3090 - accuracy: 0.1000 - val_loss: 2.0772 - val_accuracy: 0.1500\n",
            "Epoch 2/50\n",
            "60/60 [==============================] - 1s 8ms/step - loss: 2.0810 - accuracy: 0.1917 - val_loss: 2.1298 - val_accuracy: 0.2167\n",
            "Epoch 3/50\n",
            "60/60 [==============================] - 0s 8ms/step - loss: 2.0840 - accuracy: 0.2125 - val_loss: 2.2129 - val_accuracy: 0.1000\n",
            "Epoch 4/50\n",
            "60/60 [==============================] - 0s 8ms/step - loss: 2.0196 - accuracy: 0.2250 - val_loss: 1.8359 - val_accuracy: 0.3167\n",
            "Epoch 5/50\n",
            "60/60 [==============================] - 0s 8ms/step - loss: 1.6579 - accuracy: 0.3417 - val_loss: 1.8076 - val_accuracy: 0.2167\n",
            "Epoch 6/50\n",
            "60/60 [==============================] - 1s 8ms/step - loss: 1.5086 - accuracy: 0.4042 - val_loss: 1.7707 - val_accuracy: 0.2833\n",
            "Epoch 7/50\n",
            "60/60 [==============================] - 0s 8ms/step - loss: 1.5398 - accuracy: 0.4375 - val_loss: 1.6633 - val_accuracy: 0.3000\n",
            "Epoch 8/50\n",
            "60/60 [==============================] - 1s 9ms/step - loss: 1.3553 - accuracy: 0.4625 - val_loss: 1.4337 - val_accuracy: 0.4333\n",
            "Epoch 9/50\n",
            "60/60 [==============================] - 1s 8ms/step - loss: 1.3370 - accuracy: 0.4667 - val_loss: 1.4800 - val_accuracy: 0.3333\n",
            "Epoch 10/50\n",
            "60/60 [==============================] - 1s 9ms/step - loss: 1.2290 - accuracy: 0.4792 - val_loss: 1.4448 - val_accuracy: 0.4167\n",
            "Epoch 11/50\n",
            "60/60 [==============================] - 0s 8ms/step - loss: 1.1696 - accuracy: 0.5083 - val_loss: 1.5119 - val_accuracy: 0.3000\n",
            "Epoch 12/50\n",
            "60/60 [==============================] - 1s 8ms/step - loss: 1.0691 - accuracy: 0.5417 - val_loss: 1.1843 - val_accuracy: 0.4667\n",
            "Epoch 13/50\n",
            "60/60 [==============================] - 0s 8ms/step - loss: 0.9356 - accuracy: 0.6083 - val_loss: 1.2124 - val_accuracy: 0.5500\n",
            "Epoch 14/50\n",
            "60/60 [==============================] - 1s 8ms/step - loss: 0.8965 - accuracy: 0.6042 - val_loss: 1.4039 - val_accuracy: 0.4833\n",
            "Epoch 15/50\n",
            "60/60 [==============================] - 1s 8ms/step - loss: 0.9898 - accuracy: 0.5958 - val_loss: 1.2963 - val_accuracy: 0.5000\n",
            "Epoch 16/50\n",
            "60/60 [==============================] - 0s 8ms/step - loss: 0.8562 - accuracy: 0.6625 - val_loss: 1.2763 - val_accuracy: 0.5667\n",
            "Epoch 17/50\n",
            "60/60 [==============================] - 1s 8ms/step - loss: 1.0155 - accuracy: 0.6042 - val_loss: 1.2557 - val_accuracy: 0.6333\n",
            "Epoch 18/50\n",
            "60/60 [==============================] - 1s 8ms/step - loss: 0.8926 - accuracy: 0.6667 - val_loss: 1.1614 - val_accuracy: 0.4500\n",
            "Epoch 19/50\n",
            "60/60 [==============================] - 0s 8ms/step - loss: 0.7251 - accuracy: 0.6750 - val_loss: 1.0008 - val_accuracy: 0.6667\n",
            "Epoch 20/50\n",
            "60/60 [==============================] - 1s 8ms/step - loss: 0.5911 - accuracy: 0.7458 - val_loss: 1.0012 - val_accuracy: 0.6000\n",
            "Epoch 21/50\n",
            "60/60 [==============================] - 0s 8ms/step - loss: 0.5105 - accuracy: 0.7958 - val_loss: 1.2593 - val_accuracy: 0.6167\n",
            "Epoch 22/50\n",
            "60/60 [==============================] - 0s 8ms/step - loss: 0.4645 - accuracy: 0.8292 - val_loss: 1.4950 - val_accuracy: 0.5500\n",
            "Epoch 23/50\n",
            "60/60 [==============================] - 0s 8ms/step - loss: 0.4988 - accuracy: 0.8167 - val_loss: 0.9910 - val_accuracy: 0.6667\n",
            "Epoch 24/50\n",
            "60/60 [==============================] - 1s 8ms/step - loss: 0.5233 - accuracy: 0.8083 - val_loss: 1.2026 - val_accuracy: 0.5667\n",
            "Epoch 25/50\n",
            "60/60 [==============================] - 1s 8ms/step - loss: 0.3390 - accuracy: 0.8583 - val_loss: 1.5090 - val_accuracy: 0.6000\n",
            "Epoch 26/50\n",
            "60/60 [==============================] - 1s 9ms/step - loss: 0.4104 - accuracy: 0.8500 - val_loss: 1.2073 - val_accuracy: 0.6500\n",
            "Epoch 27/50\n",
            "60/60 [==============================] - 0s 8ms/step - loss: 0.4000 - accuracy: 0.8792 - val_loss: 1.7840 - val_accuracy: 0.4667\n",
            "Epoch 28/50\n",
            "60/60 [==============================] - 0s 8ms/step - loss: 0.4053 - accuracy: 0.8542 - val_loss: 1.6616 - val_accuracy: 0.5333\n",
            "Epoch 29/50\n",
            "60/60 [==============================] - 1s 8ms/step - loss: 0.3425 - accuracy: 0.8917 - val_loss: 1.4161 - val_accuracy: 0.6333\n",
            "Epoch 30/50\n",
            "60/60 [==============================] - 0s 8ms/step - loss: 0.1630 - accuracy: 0.9375 - val_loss: 1.5242 - val_accuracy: 0.6667\n",
            "Epoch 31/50\n",
            "60/60 [==============================] - 0s 8ms/step - loss: 0.4285 - accuracy: 0.8583 - val_loss: 1.6293 - val_accuracy: 0.6000\n",
            "Epoch 32/50\n",
            "60/60 [==============================] - 1s 8ms/step - loss: 0.3278 - accuracy: 0.9000 - val_loss: 1.7205 - val_accuracy: 0.5000\n",
            "Epoch 33/50\n",
            "60/60 [==============================] - 1s 8ms/step - loss: 0.3764 - accuracy: 0.8875 - val_loss: 1.7282 - val_accuracy: 0.6333\n",
            "Epoch 34/50\n",
            "60/60 [==============================] - 0s 8ms/step - loss: 0.1688 - accuracy: 0.9458 - val_loss: 1.3542 - val_accuracy: 0.6167\n",
            "Epoch 35/50\n",
            "60/60 [==============================] - 1s 9ms/step - loss: 0.0663 - accuracy: 0.9833 - val_loss: 1.4191 - val_accuracy: 0.6833\n",
            "Epoch 36/50\n",
            "60/60 [==============================] - 1s 9ms/step - loss: 0.0279 - accuracy: 0.9917 - val_loss: 1.7173 - val_accuracy: 0.6167\n",
            "Epoch 37/50\n",
            "60/60 [==============================] - 0s 8ms/step - loss: 0.1272 - accuracy: 0.9750 - val_loss: 1.5241 - val_accuracy: 0.6167\n",
            "Epoch 38/50\n",
            "60/60 [==============================] - 0s 8ms/step - loss: 0.0974 - accuracy: 0.9667 - val_loss: 1.7411 - val_accuracy: 0.6333\n",
            "Epoch 39/50\n",
            "60/60 [==============================] - 1s 8ms/step - loss: 0.0270 - accuracy: 0.9917 - val_loss: 1.9045 - val_accuracy: 0.7500\n",
            "Epoch 40/50\n",
            "60/60 [==============================] - 0s 8ms/step - loss: 0.0107 - accuracy: 1.0000 - val_loss: 1.9168 - val_accuracy: 0.6833\n",
            "Epoch 41/50\n",
            "60/60 [==============================] - 1s 9ms/step - loss: 0.0038 - accuracy: 1.0000 - val_loss: 2.0421 - val_accuracy: 0.6833\n",
            "Epoch 42/50\n",
            "60/60 [==============================] - 1s 8ms/step - loss: 0.0026 - accuracy: 1.0000 - val_loss: 2.1596 - val_accuracy: 0.6833\n",
            "Epoch 43/50\n",
            "60/60 [==============================] - 0s 8ms/step - loss: 0.0012 - accuracy: 1.0000 - val_loss: 2.1637 - val_accuracy: 0.6833\n",
            "Epoch 44/50\n",
            "60/60 [==============================] - 0s 8ms/step - loss: 0.0041 - accuracy: 1.0000 - val_loss: 2.8044 - val_accuracy: 0.6667\n",
            "Epoch 45/50\n",
            "60/60 [==============================] - 1s 8ms/step - loss: 0.0048 - accuracy: 1.0000 - val_loss: 2.3901 - val_accuracy: 0.6500\n",
            "Epoch 46/50\n",
            "60/60 [==============================] - 0s 8ms/step - loss: 0.0101 - accuracy: 0.9958 - val_loss: 3.0585 - val_accuracy: 0.6500\n",
            "Epoch 47/50\n",
            "60/60 [==============================] - 1s 8ms/step - loss: 0.5319 - accuracy: 0.8500 - val_loss: 1.7756 - val_accuracy: 0.5167\n",
            "Epoch 48/50\n",
            "60/60 [==============================] - 1s 8ms/step - loss: 0.4865 - accuracy: 0.8750 - val_loss: 1.3543 - val_accuracy: 0.6833\n",
            "Epoch 49/50\n",
            "60/60 [==============================] - 0s 8ms/step - loss: 0.3314 - accuracy: 0.9125 - val_loss: 1.9698 - val_accuracy: 0.4333\n",
            "Epoch 50/50\n",
            "60/60 [==============================] - 1s 9ms/step - loss: 0.2697 - accuracy: 0.9208 - val_loss: 1.4702 - val_accuracy: 0.6833\n"
          ]
        }
      ]
    },
    {
      "cell_type": "markdown",
      "source": [
        "# 4. Vẽ đồ thị"
      ],
      "metadata": {
        "id": "2iWYgO9ot3J6"
      }
    },
    {
      "cell_type": "code",
      "source": [
        "plt.plot(history.history['accuracy'])\n",
        "plt.plot(history.history['val_accuracy'])\n",
        "plt.title('Model accuracy')\n",
        "plt.ylabel('Accuracy')\n",
        "plt.xlabel('Epoch')\n",
        "plt.legend(['Train','Validation'],loc='upper_left')\n",
        "plt.show()"
      ],
      "metadata": {
        "colab": {
          "base_uri": "https://localhost:8080/",
          "height": 570
        },
        "id": "7ppeISeisfsF",
        "outputId": "9457077e-a130-465e-a157-906d9d16fc69"
      },
      "execution_count": 69,
      "outputs": [
        {
          "output_type": "stream",
          "name": "stderr",
          "text": [
            "/usr/local/lib/python3.7/dist-packages/ipykernel_launcher.py:6: MatplotlibDeprecationWarning: Unrecognized location 'upper_left'. Falling back on 'best'; valid locations are\n",
            "\tbest\n",
            "\tupper right\n",
            "\tupper left\n",
            "\tlower left\n",
            "\tlower right\n",
            "\tright\n",
            "\tcenter left\n",
            "\tcenter right\n",
            "\tlower center\n",
            "\tupper center\n",
            "\tcenter\n",
            "This will raise an exception in 3.3.\n",
            "  \n"
          ]
        },
        {
          "output_type": "display_data",
          "data": {
            "text/plain": [
              "<Figure size 432x288 with 1 Axes>"
            ],
            "image/png": "[encoded data removed]"
          },
          "metadata": {
            "needs_background": "light"
          }
        }
      ]
    },
    {
      "cell_type": "markdown",
      "source": [
        "#5. kiểm tra lại\n"
      ],
      "metadata": {
        "id": "3dJk6x1-t_zy"
      }
    },
    {
      "cell_type": "code",
      "source": [
        "name_img = 'watermelons_test.jpg'\n",
        "Img_data = cv2.imread(name_img,cv2.IMREAD_COLOR)\n",
        "Img_data = Img_data.reshape(1,32,32,3)\n",
        "Img_data = Img_data.astype('float32')\n",
        "Img_data/=255.0\n",
        "Img_show = cv2.imread(name_img,cv2.IMREAD_COLOR)\n",
        "Img_show = cv2.cvtColor(Img_show, cv2.COLOR_BGR2RGB)\n",
        "plt.imshow(Img_show)\n",
        "print(labels[np.argmax(model.predict(Img_data))])"
      ],
      "metadata": {
        "colab": {
          "base_uri": "https://localhost:8080/",
          "height": 284
        },
        "id": "pMoJlrVymrMt",
        "outputId": "a65f9ff9-96dd-4bff-bb38-54bc325ca2ee"
      },
      "execution_count": 72,
      "outputs": [
        {
          "output_type": "stream",
          "name": "stdout",
          "text": [
            "grapes\n"
          ]
        },
        {
          "output_type": "display_data",
          "data": {
            "text/plain": [
              "<Figure size 432x288 with 1 Axes>"
            ],
            "image/png": "[encoded data removed]"
          },
          "metadata": {
            "needs_background": "light"
          }
        }
      ]
    },
    {
      "cell_type": "code",
      "source": [
        "name_img = 'oranges_test.jpg'\n",
        "Img_data = cv2.imread(name_img,cv2.IMREAD_COLOR)\n",
        "Img_data = Img_data.reshape(1,32,32,3)\n",
        "Img_data = Img_data.astype('float32')\n",
        "Img_data/=255.0\n",
        "Img_show = cv2.imread(name_img,cv2.IMREAD_COLOR)\n",
        "Img_show = cv2.cvtColor(Img_show, cv2.COLOR_BGR2RGB)\n",
        "plt.imshow(Img_show)\n",
        "print(labels[np.argmax(model.predict(Img_data))])"
      ],
      "metadata": {
        "colab": {
          "base_uri": "https://localhost:8080/",
          "height": 284
        },
        "id": "RPhaXOg7sX_3",
        "outputId": "9eae56fe-a1b8-4c8c-cead-e2861f807e76"
      },
      "execution_count": 73,
      "outputs": [
        {
          "output_type": "stream",
          "name": "stdout",
          "text": [
            "oranges\n"
          ]
        },
        {
          "output_type": "display_data",
          "data": {
            "text/plain": [
              "<Figure size 432x288 with 1 Axes>"
            ],
            "image/png": "[encoded data removed]"
          },
          "metadata": {
            "needs_background": "light"
          }
        }
      ]
    }
  ]
}